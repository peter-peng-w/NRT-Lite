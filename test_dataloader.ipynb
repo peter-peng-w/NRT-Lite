{
 "cells": [
  {
   "cell_type": "code",
   "execution_count": 2,
   "metadata": {},
   "outputs": [],
   "source": [
    "import torch"
   ]
  },
  {
   "cell_type": "code",
   "execution_count": 10,
   "metadata": {},
   "outputs": [
    {
     "name": "stdout",
     "output_type": "stream",
     "text": [
      "Collecting en_core_web_sm==2.3.1\n",
      "  Downloading https://github.com/explosion/spacy-models/releases/download/en_core_web_sm-2.3.1/en_core_web_sm-2.3.1.tar.gz (12.0 MB)\n",
      "\u001b[K     |████████████████████████████████| 12.0 MB 10.1 MB/s eta 0:00:01\n",
      "\u001b[?25hRequirement already satisfied: spacy<2.4.0,>=2.3.0 in /Users/peng/MyProgram/venv_MLDL/lib/python3.8/site-packages (from en_core_web_sm==2.3.1) (2.3.5)\n",
      "Requirement already satisfied: plac<1.2.0,>=0.9.6 in /Users/peng/MyProgram/venv_MLDL/lib/python3.8/site-packages (from spacy<2.4.0,>=2.3.0->en_core_web_sm==2.3.1) (1.1.3)\n",
      "Requirement already satisfied: blis<0.8.0,>=0.4.0 in /Users/peng/MyProgram/venv_MLDL/lib/python3.8/site-packages (from spacy<2.4.0,>=2.3.0->en_core_web_sm==2.3.1) (0.7.4)\n",
      "Requirement already satisfied: srsly<1.1.0,>=1.0.2 in /Users/peng/MyProgram/venv_MLDL/lib/python3.8/site-packages (from spacy<2.4.0,>=2.3.0->en_core_web_sm==2.3.1) (1.0.5)\n",
      "Requirement already satisfied: cymem<2.1.0,>=2.0.2 in /Users/peng/MyProgram/venv_MLDL/lib/python3.8/site-packages (from spacy<2.4.0,>=2.3.0->en_core_web_sm==2.3.1) (2.0.5)\n",
      "Requirement already satisfied: murmurhash<1.1.0,>=0.28.0 in /Users/peng/MyProgram/venv_MLDL/lib/python3.8/site-packages (from spacy<2.4.0,>=2.3.0->en_core_web_sm==2.3.1) (1.0.5)\n",
      "Requirement already satisfied: tqdm<5.0.0,>=4.38.0 in /Users/peng/MyProgram/venv_MLDL/lib/python3.8/site-packages (from spacy<2.4.0,>=2.3.0->en_core_web_sm==2.3.1) (4.49.0)\n",
      "Requirement already satisfied: preshed<3.1.0,>=3.0.2 in /Users/peng/MyProgram/venv_MLDL/lib/python3.8/site-packages (from spacy<2.4.0,>=2.3.0->en_core_web_sm==2.3.1) (3.0.5)\n",
      "Requirement already satisfied: wasabi<1.1.0,>=0.4.0 in /Users/peng/MyProgram/venv_MLDL/lib/python3.8/site-packages (from spacy<2.4.0,>=2.3.0->en_core_web_sm==2.3.1) (0.8.0)\n",
      "Requirement already satisfied: numpy>=1.15.0 in /Users/peng/MyProgram/venv_MLDL/lib/python3.8/site-packages (from spacy<2.4.0,>=2.3.0->en_core_web_sm==2.3.1) (1.18.5)\n",
      "Requirement already satisfied: thinc<7.5.0,>=7.4.1 in /Users/peng/MyProgram/venv_MLDL/lib/python3.8/site-packages (from spacy<2.4.0,>=2.3.0->en_core_web_sm==2.3.1) (7.4.5)\n",
      "Requirement already satisfied: catalogue<1.1.0,>=0.0.7 in /Users/peng/MyProgram/venv_MLDL/lib/python3.8/site-packages (from spacy<2.4.0,>=2.3.0->en_core_web_sm==2.3.1) (1.0.0)\n",
      "Requirement already satisfied: setuptools in /Users/peng/MyProgram/venv_MLDL/lib/python3.8/site-packages (from spacy<2.4.0,>=2.3.0->en_core_web_sm==2.3.1) (51.0.0)\n",
      "Requirement already satisfied: requests<3.0.0,>=2.13.0 in /Users/peng/MyProgram/venv_MLDL/lib/python3.8/site-packages (from spacy<2.4.0,>=2.3.0->en_core_web_sm==2.3.1) (2.24.0)\n",
      "Requirement already satisfied: urllib3!=1.25.0,!=1.25.1,<1.26,>=1.21.1 in /Users/peng/MyProgram/venv_MLDL/lib/python3.8/site-packages (from requests<3.0.0,>=2.13.0->spacy<2.4.0,>=2.3.0->en_core_web_sm==2.3.1) (1.25.10)\n",
      "Requirement already satisfied: idna<3,>=2.5 in /Users/peng/MyProgram/venv_MLDL/lib/python3.8/site-packages (from requests<3.0.0,>=2.13.0->spacy<2.4.0,>=2.3.0->en_core_web_sm==2.3.1) (2.10)\n",
      "Requirement already satisfied: chardet<4,>=3.0.2 in /Users/peng/MyProgram/venv_MLDL/lib/python3.8/site-packages (from requests<3.0.0,>=2.13.0->spacy<2.4.0,>=2.3.0->en_core_web_sm==2.3.1) (3.0.4)\n",
      "Requirement already satisfied: certifi>=2017.4.17 in /Users/peng/MyProgram/venv_MLDL/lib/python3.8/site-packages (from requests<3.0.0,>=2.13.0->spacy<2.4.0,>=2.3.0->en_core_web_sm==2.3.1) (2020.6.20)\n",
      "\u001b[38;5;2m✔ Download and installation successful\u001b[0m\n",
      "You can now load the model via spacy.load('en_core_web_sm')\n",
      "\u001b[38;5;2m✔ Linking successful\u001b[0m\n",
      "/Users/peng/MyProgram/venv_MLDL/lib/python3.8/site-packages/en_core_web_sm -->\n",
      "/Users/peng/MyProgram/venv_MLDL/lib/python3.8/site-packages/spacy/data/en\n",
      "You can now load the model via spacy.load('en')\n"
     ]
    }
   ],
   "source": [
    "!python -m spacy download en"
   ]
  },
  {
   "cell_type": "code",
   "execution_count": 11,
   "metadata": {},
   "outputs": [],
   "source": [
    "from utils.data_reader import amazon_dataset_iters"
   ]
  },
  {
   "cell_type": "code",
   "execution_count": 12,
   "metadata": {},
   "outputs": [],
   "source": [
    "dataset_folder = './data/Musical_Instruments_5/'"
   ]
  },
  {
   "cell_type": "code",
   "execution_count": 13,
   "metadata": {},
   "outputs": [
    {
     "name": "stdout",
     "output_type": "stream",
     "text": [
      "Loading datasets...\n"
     ]
    },
    {
     "name": "stderr",
     "output_type": "stream",
     "text": [
      "/Users/peng/MyProgram/venv_MLDL/lib/python3.8/site-packages/torchtext/data/example.py:13: UserWarning: Example class will be retired soon and moved to torchtext.legacy. Please see the most recent release notes for further information.\n",
      "  warnings.warn('Example class will be retired soon and moved to torchtext.legacy. Please see the most recent release notes for further information.', UserWarning)\n"
     ]
    },
    {
     "name": "stdout",
     "output_type": "stream",
     "text": [
      "datasets loaded\n",
      "item vocab built\n",
      "user vocab built\n",
      "text vocab built\n",
      "tips vocab built\n"
     ]
    },
    {
     "name": "stderr",
     "output_type": "stream",
     "text": [
      "/Users/peng/MyProgram/venv_MLDL/lib/python3.8/site-packages/torchtext/data/iterator.py:48: UserWarning: Iterator class will be retired soon and moved to torchtext.legacy. Please see the most recent release notes for further information.\n",
      "  warnings.warn('{} class will be retired soon and moved to torchtext.legacy. Please see the most recent release notes for further information.'.format(self.__class__.__name__), UserWarning)\n"
     ]
    }
   ],
   "source": [
    "# Loading the dataset\n",
    "text_vocab, tips_vocab, train_iter, val_iter, test_iter = (\n",
    "    amazon_dataset_iters(dataset_folder)\n",
    ")"
   ]
  },
  {
   "cell_type": "code",
   "execution_count": 26,
   "metadata": {},
   "outputs": [
    {
     "name": "stdout",
     "output_type": "stream",
     "text": [
      "4144\n",
      "2\n",
      "<torchtext.data.iterator.Iterator object at 0x137e0abb0>\n"
     ]
    }
   ],
   "source": [
    "print(text_vocab.freqs['not'])\n",
    "print(text_vocab.stoi['$start'])\n",
    "print(train_iter)"
   ]
  },
  {
   "cell_type": "code",
   "execution_count": 33,
   "metadata": {},
   "outputs": [
    {
     "name": "stdout",
     "output_type": "stream",
     "text": [
      "\n",
      "[torchtext.data.batch.Batch of size 32]\n",
      "\t[.item]:[torch.LongTensor of size 32]\n",
      "\t[.user]:[torch.LongTensor of size 32]\n",
      "\t[.text]:[torch.FloatTensor of size 32x19598]\n",
      "\t[.tips]:[torch.LongTensor of size 22x32]\n",
      "\t[.rating]:[torch.FloatTensor of size 32]\n"
     ]
    }
   ],
   "source": [
    "for train_iter_data in train_iter:\n",
    "    print(train_iter_data)\n",
    "    break"
   ]
  },
  {
   "cell_type": "code",
   "execution_count": 36,
   "metadata": {},
   "outputs": [
    {
     "data": {
      "text/plain": [
       "array(608)"
      ]
     },
     "execution_count": 36,
     "metadata": {},
     "output_type": "execute_result"
    }
   ],
   "source": [
    "max([i.item.max().cpu().data.numpy() for i in train_iter] + [i.item.max().cpu().data.numpy() for i in test_iter])"
   ]
  },
  {
   "cell_type": "code",
   "execution_count": 77,
   "metadata": {},
   "outputs": [
    {
     "data": {
      "text/plain": [
       "array(1423)"
      ]
     },
     "execution_count": 77,
     "metadata": {},
     "output_type": "execute_result"
    }
   ],
   "source": [
    "max([i.user.max().cpu().data.numpy() for i in train_iter] + [i.user.max().cpu().data.numpy() for i in test_iter])"
   ]
  },
  {
   "cell_type": "code",
   "execution_count": 80,
   "metadata": {},
   "outputs": [
    {
     "data": {
      "text/plain": [
       "1423"
      ]
     },
     "execution_count": 80,
     "metadata": {},
     "output_type": "execute_result"
    }
   ],
   "source": [
    "int(max([i.user.max().cpu().data.numpy() for i in train_iter]))"
   ]
  },
  {
   "cell_type": "code",
   "execution_count": 40,
   "metadata": {},
   "outputs": [
    {
     "data": {
      "text/plain": [
       "19598"
      ]
     },
     "execution_count": 40,
     "metadata": {},
     "output_type": "execute_result"
    }
   ],
   "source": [
    "len(text_vocab.itos)"
   ]
  },
  {
   "cell_type": "code",
   "execution_count": 41,
   "metadata": {},
   "outputs": [
    {
     "data": {
      "text/plain": [
       "19598"
      ]
     },
     "execution_count": 41,
     "metadata": {},
     "output_type": "execute_result"
    }
   ],
   "source": [
    "len(tips_vocab.itos)"
   ]
  },
  {
   "cell_type": "code",
   "execution_count": 47,
   "metadata": {},
   "outputs": [
    {
     "name": "stdout",
     "output_type": "stream",
     "text": [
      "\n",
      "[torchtext.data.batch.Batch of size 32]\n",
      "\t[.item]:[torch.LongTensor of size 32]\n",
      "\t[.user]:[torch.LongTensor of size 32]\n",
      "\t[.text]:[torch.FloatTensor of size 32x19598]\n",
      "\t[.tips]:[torch.LongTensor of size 22x32]\n",
      "\t[.rating]:[torch.FloatTensor of size 32]\n",
      "tensor([163,  88, 525, 514,  20, 314,   3, 199, 376, 544,  19,  56, 205,  11,\n",
      "        418, 458,  55, 143, 557, 112,   7,   6,  65, 133, 172, 256,  15, 486,\n",
      "        158,  32,  35, 218])\n",
      "tensor([[    2,     2,     2,     2,     2,     2,     2,     2,     2,     2,\n",
      "             2,     2,     2,     2,     2,     2,     2,     2,     2,     2,\n",
      "             2,     2,     2,     2,     2,     2,     2,     2,     2,     2,\n",
      "             2,     2],\n",
      "        [  109,    47,  3925,   145,    73,    10,    29,   407,   217,    10,\n",
      "           314,   302,    85,    35,    75,    54,   219,   132,    75,   379,\n",
      "            77,    35,    75,  6603,   833,   207,   236,   352,   203,    29,\n",
      "            29,     8],\n",
      "        [   16,    10,     3,   195,  6334,    28,    37,   114,    65,    28,\n",
      "            37,    32,    94,    91,    52,    46,     3,    31,    52,    20,\n",
      "             9,     4,    29,     3, 10882,    81,    10,   110,    92,   102,\n",
      "           348,   327],\n",
      "        [    3,    57,     1,    56,     3,     8,    12,    11,     3,    78,\n",
      "             3,    35,    71,     9,     3,    90,     1,    31,     3,     6,\n",
      "           114,     3,     3,     1,     3,   167,     3,    30,    59,     6,\n",
      "             3,    35],\n",
      "        [    1,   238,     1,   394,     1,   108,    29,   143,     1,    26,\n",
      "             1,    32,     8,     8,     1,    32,     1,     3,     1,  8848,\n",
      "             3,     1,     1,     1,     1,   207,     1,     7,   906,  2016,\n",
      "             1,   833],\n",
      "        [    1,   339,     1,   995,     1,     3,    64,    62,     1,     8,\n",
      "             1,    18,  1002,    35,     1,     8,     1,     1,     1,   134,\n",
      "             1,     1,     1,     1,     1,    64,     1,   180,    17,   345,\n",
      "             1,  1118],\n",
      "        [    1,     3,     1,   311,     1,     1,     3,     9,     1,  7416,\n",
      "             1,   993,    45,    64,     1,   782,     1,     1,     1,    31,\n",
      "             1,     1,     1,     1,     1,     3,     1,    15,    22,     3,\n",
      "             1,     3],\n",
      "        [    1,     1,     1,     3,     1,     1,     1,  2016,     1,   543,\n",
      "             1,   292,   221,     3,     1,     9,     1,     1,     1,     3,\n",
      "             1,     1,     1,     1,     1,     1,     1,    16,    53,     1,\n",
      "             1,     1],\n",
      "        [    1,     1,     1,     1,     1,     1,     1,   702,     1,     4,\n",
      "             1,  1231,   235,     1,     1,    76,     1,     1,     1,     1,\n",
      "             1,     1,     1,     1,     1,     1,     1,     3,    56,     1,\n",
      "             1,     1],\n",
      "        [    1,     1,     1,     1,     1,     1,     1,     4,     1,     5,\n",
      "             1, 16470,   121,     1,     1,     8,     1,     1,     1,     1,\n",
      "             1,     1,     1,     1,     1,     1,     1,     1,  8127,     1,\n",
      "             1,     1],\n",
      "        [    1,     1,     1,     1,     1,     1,     1,     3,     1,  4104,\n",
      "             1,    31,     3,     1,     1,   172,     1,     1,     1,     1,\n",
      "             1,     1,     1,     1,     1,     1,     1,     1,     4,     1,\n",
      "             1,     1],\n",
      "        [    1,     1,     1,     1,     1,     1,     1,     1,     1,   127,\n",
      "             1,     3,     1,     1,     1,    15,     1,     1,     1,     1,\n",
      "             1,     1,     1,     1,     1,     1,     1,     1,     3,     1,\n",
      "             1,     1],\n",
      "        [    1,     1,     1,     1,     1,     1,     1,     1,     1,    79,\n",
      "             1,     1,     1,     1,     1,   189,     1,     1,     1,     1,\n",
      "             1,     1,     1,     1,     1,     1,     1,     1,     1,     1,\n",
      "             1,     1],\n",
      "        [    1,     1,     1,     1,     1,     1,     1,     1,     1,     3,\n",
      "             1,     1,     1,     1,     1,     3,     1,     1,     1,     1,\n",
      "             1,     1,     1,     1,     1,     1,     1,     1,     1,     1,\n",
      "             1,     1],\n",
      "        [    1,     1,     1,     1,     1,     1,     1,     1,     1,     1,\n",
      "             1,     1,     1,     1,     1,     1,     1,     1,     1,     1,\n",
      "             1,     1,     1,     1,     1,     1,     1,     1,     1,     1,\n",
      "             1,     1],\n",
      "        [    1,     1,     1,     1,     1,     1,     1,     1,     1,     1,\n",
      "             1,     1,     1,     1,     1,     1,     1,     1,     1,     1,\n",
      "             1,     1,     1,     1,     1,     1,     1,     1,     1,     1,\n",
      "             1,     1],\n",
      "        [    1,     1,     1,     1,     1,     1,     1,     1,     1,     1,\n",
      "             1,     1,     1,     1,     1,     1,     1,     1,     1,     1,\n",
      "             1,     1,     1,     1,     1,     1,     1,     1,     1,     1,\n",
      "             1,     1],\n",
      "        [    1,     1,     1,     1,     1,     1,     1,     1,     1,     1,\n",
      "             1,     1,     1,     1,     1,     1,     1,     1,     1,     1,\n",
      "             1,     1,     1,     1,     1,     1,     1,     1,     1,     1,\n",
      "             1,     1],\n",
      "        [    1,     1,     1,     1,     1,     1,     1,     1,     1,     1,\n",
      "             1,     1,     1,     1,     1,     1,     1,     1,     1,     1,\n",
      "             1,     1,     1,     1,     1,     1,     1,     1,     1,     1,\n",
      "             1,     1],\n",
      "        [    1,     1,     1,     1,     1,     1,     1,     1,     1,     1,\n",
      "             1,     1,     1,     1,     1,     1,     1,     1,     1,     1,\n",
      "             1,     1,     1,     1,     1,     1,     1,     1,     1,     1,\n",
      "             1,     1],\n",
      "        [    1,     1,     1,     1,     1,     1,     1,     1,     1,     1,\n",
      "             1,     1,     1,     1,     1,     1,     1,     1,     1,     1,\n",
      "             1,     1,     1,     1,     1,     1,     1,     1,     1,     1,\n",
      "             1,     1],\n",
      "        [    1,     1,     1,     1,     1,     1,     1,     1,     1,     1,\n",
      "             1,     1,     1,     1,     1,     1,     1,     1,     1,     1,\n",
      "             1,     1,     1,     1,     1,     1,     1,     1,     1,     1,\n",
      "             1,     1]])\n",
      "tensor([[    2,     2,     2,     2,     2,     2,     2,     2,     2,     2,\n",
      "             2,     2,     2,     2,     2,     2,     2,     2,     2,     2,\n",
      "             2,     2,     2,     2,     2,     2,     2,     2,     2,     2,\n",
      "             2,     2],\n",
      "        [  109,    47,  3925,   145,    73,    10,    29,   407,   217,    10,\n",
      "           314,   302,    85,    35,    75,    54,   219,   132,    75,   379,\n",
      "            77,    35,    75,  6603,   833,   207,   236,   352,   203,    29,\n",
      "            29,     8],\n",
      "        [   16,    10,     3,   195,  6334,    28,    37,   114,    65,    28,\n",
      "            37,    32,    94,    91,    52,    46,     3,    31,    52,    20,\n",
      "             9,     4,    29,     3, 10882,    81,    10,   110,    92,   102,\n",
      "           348,   327],\n",
      "        [    3,    57,     1,    56,     3,     8,    12,    11,     3,    78,\n",
      "             3,    35,    71,     9,     3,    90,     1,    31,     3,     6,\n",
      "           114,     3,     3,     1,     3,   167,     3,    30,    59,     6,\n",
      "             3,    35],\n",
      "        [    1,   238,     1,   394,     1,   108,    29,   143,     1,    26,\n",
      "             1,    32,     8,     8,     1,    32,     1,     3,     1,  8848,\n",
      "             3,     1,     1,     1,     1,   207,     1,     7,   906,  2016,\n",
      "             1,   833],\n",
      "        [    1,   339,     1,   995,     1,     3,    64,    62,     1,     8,\n",
      "             1,    18,  1002,    35,     1,     8,     1,     1,     1,   134,\n",
      "             1,     1,     1,     1,     1,    64,     1,   180,    17,   345,\n",
      "             1,  1118],\n",
      "        [    1,     3,     1,   311,     1,     1,     3,     9,     1,  7416,\n",
      "             1,   993,    45,    64,     1,   782,     1,     1,     1,    31,\n",
      "             1,     1,     1,     1,     1,     3,     1,    15,    22,     3,\n",
      "             1,     3],\n",
      "        [    1,     1,     1,     3,     1,     1,     1,  2016,     1,   543,\n",
      "             1,   292,   221,     3,     1,     9,     1,     1,     1,     3,\n",
      "             1,     1,     1,     1,     1,     1,     1,    16,    53,     1,\n",
      "             1,     1],\n",
      "        [    1,     1,     1,     1,     1,     1,     1,   702,     1,     4,\n",
      "             1,  1231,   235,     1,     1,    76,     1,     1,     1,     1,\n",
      "             1,     1,     1,     1,     1,     1,     1,     3,    56,     1,\n",
      "             1,     1],\n",
      "        [    1,     1,     1,     1,     1,     1,     1,     4,     1,     5,\n",
      "             1, 16470,   121,     1,     1,     8,     1,     1,     1,     1,\n",
      "             1,     1,     1,     1,     1,     1,     1,     1,  8127,     1,\n",
      "             1,     1],\n",
      "        [    1,     1,     1,     1,     1,     1,     1,     3,     1,  4104,\n",
      "             1,    31,     3,     1,     1,   172,     1,     1,     1,     1,\n",
      "             1,     1,     1,     1,     1,     1,     1,     1,     4,     1,\n",
      "             1,     1],\n",
      "        [    1,     1,     1,     1,     1,     1,     1,     1,     1,   127,\n",
      "             1,     3,     1,     1,     1,    15,     1,     1,     1,     1,\n",
      "             1,     1,     1,     1,     1,     1,     1,     1,     3,     1,\n",
      "             1,     1],\n",
      "        [    1,     1,     1,     1,     1,     1,     1,     1,     1,    79,\n",
      "             1,     1,     1,     1,     1,   189,     1,     1,     1,     1,\n",
      "             1,     1,     1,     1,     1,     1,     1,     1,     1,     1,\n",
      "             1,     1],\n",
      "        [    1,     1,     1,     1,     1,     1,     1,     1,     1,     3,\n",
      "             1,     1,     1,     1,     1,     3,     1,     1,     1,     1,\n",
      "             1,     1,     1,     1,     1,     1,     1,     1,     1,     1,\n",
      "             1,     1],\n",
      "        [    1,     1,     1,     1,     1,     1,     1,     1,     1,     1,\n",
      "             1,     1,     1,     1,     1,     1,     1,     1,     1,     1,\n",
      "             1,     1,     1,     1,     1,     1,     1,     1,     1,     1,\n",
      "             1,     1],\n",
      "        [    1,     1,     1,     1,     1,     1,     1,     1,     1,     1,\n",
      "             1,     1,     1,     1,     1,     1,     1,     1,     1,     1,\n",
      "             1,     1,     1,     1,     1,     1,     1,     1,     1,     1,\n",
      "             1,     1],\n",
      "        [    1,     1,     1,     1,     1,     1,     1,     1,     1,     1,\n",
      "             1,     1,     1,     1,     1,     1,     1,     1,     1,     1,\n",
      "             1,     1,     1,     1,     1,     1,     1,     1,     1,     1,\n",
      "             1,     1],\n",
      "        [    1,     1,     1,     1,     1,     1,     1,     1,     1,     1,\n",
      "             1,     1,     1,     1,     1,     1,     1,     1,     1,     1,\n",
      "             1,     1,     1,     1,     1,     1,     1,     1,     1,     1,\n",
      "             1,     1],\n",
      "        [    1,     1,     1,     1,     1,     1,     1,     1,     1,     1,\n",
      "             1,     1,     1,     1,     1,     1,     1,     1,     1,     1,\n",
      "             1,     1,     1,     1,     1,     1,     1,     1,     1,     1,\n",
      "             1,     1],\n",
      "        [    1,     1,     1,     1,     1,     1,     1,     1,     1,     1,\n",
      "             1,     1,     1,     1,     1,     1,     1,     1,     1,     1,\n",
      "             1,     1,     1,     1,     1,     1,     1,     1,     1,     1,\n",
      "             1,     1],\n",
      "        [    1,     1,     1,     1,     1,     1,     1,     1,     1,     1,\n",
      "             1,     1,     1,     1,     1,     1,     1,     1,     1,     1,\n",
      "             1,     1,     1,     1,     1,     1,     1,     1,     1,     1,\n",
      "             1,     1]])\n",
      "tensor([[  109,    47,  3925,   145,    73,    10,    29,   407,   217,    10,\n",
      "           314,   302,    85,    35,    75,    54,   219,   132,    75,   379,\n",
      "            77,    35,    75,  6603,   833,   207,   236,   352,   203,    29,\n",
      "            29,     8],\n",
      "        [   16,    10,     3,   195,  6334,    28,    37,   114,    65,    28,\n",
      "            37,    32,    94,    91,    52,    46,     3,    31,    52,    20,\n",
      "             9,     4,    29,     3, 10882,    81,    10,   110,    92,   102,\n",
      "           348,   327],\n",
      "        [    3,    57,     1,    56,     3,     8,    12,    11,     3,    78,\n",
      "             3,    35,    71,     9,     3,    90,     1,    31,     3,     6,\n",
      "           114,     3,     3,     1,     3,   167,     3,    30,    59,     6,\n",
      "             3,    35],\n",
      "        [    1,   238,     1,   394,     1,   108,    29,   143,     1,    26,\n",
      "             1,    32,     8,     8,     1,    32,     1,     3,     1,  8848,\n",
      "             3,     1,     1,     1,     1,   207,     1,     7,   906,  2016,\n",
      "             1,   833],\n",
      "        [    1,   339,     1,   995,     1,     3,    64,    62,     1,     8,\n",
      "             1,    18,  1002,    35,     1,     8,     1,     1,     1,   134,\n",
      "             1,     1,     1,     1,     1,    64,     1,   180,    17,   345,\n",
      "             1,  1118],\n",
      "        [    1,     3,     1,   311,     1,     1,     3,     9,     1,  7416,\n",
      "             1,   993,    45,    64,     1,   782,     1,     1,     1,    31,\n",
      "             1,     1,     1,     1,     1,     3,     1,    15,    22,     3,\n",
      "             1,     3],\n",
      "        [    1,     1,     1,     3,     1,     1,     1,  2016,     1,   543,\n",
      "             1,   292,   221,     3,     1,     9,     1,     1,     1,     3,\n",
      "             1,     1,     1,     1,     1,     1,     1,    16,    53,     1,\n",
      "             1,     1],\n",
      "        [    1,     1,     1,     1,     1,     1,     1,   702,     1,     4,\n",
      "             1,  1231,   235,     1,     1,    76,     1,     1,     1,     1,\n",
      "             1,     1,     1,     1,     1,     1,     1,     3,    56,     1,\n",
      "             1,     1],\n",
      "        [    1,     1,     1,     1,     1,     1,     1,     4,     1,     5,\n",
      "             1, 16470,   121,     1,     1,     8,     1,     1,     1,     1,\n",
      "             1,     1,     1,     1,     1,     1,     1,     1,  8127,     1,\n",
      "             1,     1],\n",
      "        [    1,     1,     1,     1,     1,     1,     1,     3,     1,  4104,\n",
      "             1,    31,     3,     1,     1,   172,     1,     1,     1,     1,\n",
      "             1,     1,     1,     1,     1,     1,     1,     1,     4,     1,\n",
      "             1,     1],\n",
      "        [    1,     1,     1,     1,     1,     1,     1,     1,     1,   127,\n",
      "             1,     3,     1,     1,     1,    15,     1,     1,     1,     1,\n",
      "             1,     1,     1,     1,     1,     1,     1,     1,     3,     1,\n",
      "             1,     1],\n",
      "        [    1,     1,     1,     1,     1,     1,     1,     1,     1,    79,\n",
      "             1,     1,     1,     1,     1,   189,     1,     1,     1,     1,\n",
      "             1,     1,     1,     1,     1,     1,     1,     1,     1,     1,\n",
      "             1,     1],\n",
      "        [    1,     1,     1,     1,     1,     1,     1,     1,     1,     3,\n",
      "             1,     1,     1,     1,     1,     3,     1,     1,     1,     1,\n",
      "             1,     1,     1,     1,     1,     1,     1,     1,     1,     1,\n",
      "             1,     1],\n",
      "        [    1,     1,     1,     1,     1,     1,     1,     1,     1,     1,\n",
      "             1,     1,     1,     1,     1,     1,     1,     1,     1,     1,\n",
      "             1,     1,     1,     1,     1,     1,     1,     1,     1,     1,\n",
      "             1,     1],\n",
      "        [    1,     1,     1,     1,     1,     1,     1,     1,     1,     1,\n",
      "             1,     1,     1,     1,     1,     1,     1,     1,     1,     1,\n",
      "             1,     1,     1,     1,     1,     1,     1,     1,     1,     1,\n",
      "             1,     1],\n",
      "        [    1,     1,     1,     1,     1,     1,     1,     1,     1,     1,\n",
      "             1,     1,     1,     1,     1,     1,     1,     1,     1,     1,\n",
      "             1,     1,     1,     1,     1,     1,     1,     1,     1,     1,\n",
      "             1,     1],\n",
      "        [    1,     1,     1,     1,     1,     1,     1,     1,     1,     1,\n",
      "             1,     1,     1,     1,     1,     1,     1,     1,     1,     1,\n",
      "             1,     1,     1,     1,     1,     1,     1,     1,     1,     1,\n",
      "             1,     1],\n",
      "        [    1,     1,     1,     1,     1,     1,     1,     1,     1,     1,\n",
      "             1,     1,     1,     1,     1,     1,     1,     1,     1,     1,\n",
      "             1,     1,     1,     1,     1,     1,     1,     1,     1,     1,\n",
      "             1,     1],\n",
      "        [    1,     1,     1,     1,     1,     1,     1,     1,     1,     1,\n",
      "             1,     1,     1,     1,     1,     1,     1,     1,     1,     1,\n",
      "             1,     1,     1,     1,     1,     1,     1,     1,     1,     1,\n",
      "             1,     1],\n",
      "        [    1,     1,     1,     1,     1,     1,     1,     1,     1,     1,\n",
      "             1,     1,     1,     1,     1,     1,     1,     1,     1,     1,\n",
      "             1,     1,     1,     1,     1,     1,     1,     1,     1,     1,\n",
      "             1,     1],\n",
      "        [    1,     1,     1,     1,     1,     1,     1,     1,     1,     1,\n",
      "             1,     1,     1,     1,     1,     1,     1,     1,     1,     1,\n",
      "             1,     1,     1,     1,     1,     1,     1,     1,     1,     1,\n",
      "             1,     1]])\n"
     ]
    }
   ],
   "source": [
    "for train_iter_data in train_iter:\n",
    "    print(train_iter_data)\n",
    "    print(train_iter_data.item)\n",
    "    print(train_iter_data.tips)\n",
    "    print(train_iter_data.tips[:-1])\n",
    "    print(train_iter_data.tips[1:])\n",
    "    break"
   ]
  },
  {
   "cell_type": "code",
   "execution_count": 44,
   "metadata": {},
   "outputs": [
    {
     "data": {
      "text/plain": [
       "225"
      ]
     },
     "execution_count": 44,
     "metadata": {},
     "output_type": "execute_result"
    }
   ],
   "source": [
    "len(train_iter)"
   ]
  },
  {
   "cell_type": "code",
   "execution_count": 48,
   "metadata": {},
   "outputs": [
    {
     "name": "stdout",
     "output_type": "stream",
     "text": [
      "torch.Size([22, 32])\n",
      "torch.Size([21, 32])\n",
      "torch.Size([21, 32])\n"
     ]
    }
   ],
   "source": [
    "for train_iter_data in train_iter:\n",
    "    print(train_iter_data.tips.shape)\n",
    "    print(train_iter_data.tips[:-1].shape)\n",
    "    print(train_iter_data.tips[1:].shape)\n",
    "    break"
   ]
  },
  {
   "cell_type": "code",
   "execution_count": 49,
   "metadata": {},
   "outputs": [
    {
     "name": "stdout",
     "output_type": "stream",
     "text": [
      "torch.Size([22, 32])\n",
      "torch.Size([21, 32])\n",
      "torch.Size([21, 32])\n",
      "tensor([[ True,  True,  True,  True,  True,  True,  True,  True,  True,  True,\n",
      "          True,  True,  True,  True,  True,  True,  True,  True,  True,  True,\n",
      "          True,  True,  True,  True,  True,  True,  True,  True,  True,  True,\n",
      "          True,  True],\n",
      "        [ True,  True,  True,  True,  True,  True,  True,  True,  True,  True,\n",
      "          True,  True,  True,  True,  True,  True,  True,  True,  True,  True,\n",
      "          True,  True,  True,  True,  True,  True,  True,  True,  True,  True,\n",
      "          True,  True],\n",
      "        [ True,  True,  True,  True,  True,  True,  True,  True,  True,  True,\n",
      "          True,  True,  True,  True, False,  True,  True,  True,  True,  True,\n",
      "          True,  True,  True,  True,  True,  True,  True,  True,  True,  True,\n",
      "         False,  True],\n",
      "        [ True,  True,  True,  True,  True, False, False,  True,  True, False,\n",
      "          True,  True,  True,  True, False,  True,  True,  True,  True,  True,\n",
      "          True,  True, False,  True,  True,  True, False, False, False, False,\n",
      "         False,  True],\n",
      "        [ True,  True,  True,  True, False, False, False,  True,  True, False,\n",
      "          True, False, False,  True, False,  True,  True,  True,  True,  True,\n",
      "          True,  True, False,  True,  True,  True, False, False, False, False,\n",
      "         False,  True],\n",
      "        [False,  True,  True,  True, False, False, False, False,  True, False,\n",
      "          True, False, False,  True, False,  True,  True,  True,  True, False,\n",
      "          True,  True, False, False,  True,  True, False, False, False, False,\n",
      "         False, False],\n",
      "        [False,  True, False,  True, False, False, False, False,  True, False,\n",
      "          True, False, False,  True, False, False,  True,  True,  True, False,\n",
      "          True, False, False, False,  True,  True, False, False, False, False,\n",
      "         False, False],\n",
      "        [False,  True, False,  True, False, False, False, False,  True, False,\n",
      "          True, False, False,  True, False, False,  True,  True,  True, False,\n",
      "          True, False, False, False, False,  True, False, False, False, False,\n",
      "         False, False],\n",
      "        [False,  True, False,  True, False, False, False, False,  True, False,\n",
      "          True, False, False,  True, False, False, False, False, False, False,\n",
      "         False, False, False, False, False,  True, False, False, False, False,\n",
      "         False, False],\n",
      "        [False,  True, False,  True, False, False, False, False,  True, False,\n",
      "          True, False, False,  True, False, False, False, False, False, False,\n",
      "         False, False, False, False, False,  True, False, False, False, False,\n",
      "         False, False],\n",
      "        [False,  True, False, False, False, False, False, False,  True, False,\n",
      "         False, False, False,  True, False, False, False, False, False, False,\n",
      "         False, False, False, False, False,  True, False, False, False, False,\n",
      "         False, False],\n",
      "        [False, False, False, False, False, False, False, False,  True, False,\n",
      "         False, False, False,  True, False, False, False, False, False, False,\n",
      "         False, False, False, False, False,  True, False, False, False, False,\n",
      "         False, False],\n",
      "        [False, False, False, False, False, False, False, False,  True, False,\n",
      "         False, False, False,  True, False, False, False, False, False, False,\n",
      "         False, False, False, False, False,  True, False, False, False, False,\n",
      "         False, False],\n",
      "        [False, False, False, False, False, False, False, False,  True, False,\n",
      "         False, False, False,  True, False, False, False, False, False, False,\n",
      "         False, False, False, False, False,  True, False, False, False, False,\n",
      "         False, False],\n",
      "        [False, False, False, False, False, False, False, False, False, False,\n",
      "         False, False, False, False, False, False, False, False, False, False,\n",
      "         False, False, False, False, False,  True, False, False, False, False,\n",
      "         False, False],\n",
      "        [False, False, False, False, False, False, False, False, False, False,\n",
      "         False, False, False, False, False, False, False, False, False, False,\n",
      "         False, False, False, False, False, False, False, False, False, False,\n",
      "         False, False],\n",
      "        [False, False, False, False, False, False, False, False, False, False,\n",
      "         False, False, False, False, False, False, False, False, False, False,\n",
      "         False, False, False, False, False, False, False, False, False, False,\n",
      "         False, False],\n",
      "        [False, False, False, False, False, False, False, False, False, False,\n",
      "         False, False, False, False, False, False, False, False, False, False,\n",
      "         False, False, False, False, False, False, False, False, False, False,\n",
      "         False, False],\n",
      "        [False, False, False, False, False, False, False, False, False, False,\n",
      "         False, False, False, False, False, False, False, False, False, False,\n",
      "         False, False, False, False, False, False, False, False, False, False,\n",
      "         False, False],\n",
      "        [False, False, False, False, False, False, False, False, False, False,\n",
      "         False, False, False, False, False, False, False, False, False, False,\n",
      "         False, False, False, False, False, False, False, False, False, False,\n",
      "         False, False],\n",
      "        [False, False, False, False, False, False, False, False, False, False,\n",
      "         False, False, False, False, False, False, False, False, False, False,\n",
      "         False, False, False, False, False, False, False, False, False, False,\n",
      "         False, False]])\n"
     ]
    }
   ],
   "source": [
    "pad_token_id = 1\n",
    "for train_iter_data in train_iter:\n",
    "    print(train_iter_data.tips.shape)\n",
    "    print(train_iter_data.tips[:-1].shape)\n",
    "    print(train_iter_data.tips[1:].shape)\n",
    "    pad_mask = ~(train_iter_data.tips[1:] == pad_token_id)\n",
    "    print(pad_mask)\n",
    "    break"
   ]
  },
  {
   "cell_type": "code",
   "execution_count": 57,
   "metadata": {},
   "outputs": [
    {
     "data": {
      "text/plain": [
       "1"
      ]
     },
     "execution_count": 57,
     "metadata": {},
     "output_type": "execute_result"
    }
   ],
   "source": [
    "tips_vocab.stoi['<pad>']"
   ]
  },
  {
   "cell_type": "code",
   "execution_count": 51,
   "metadata": {},
   "outputs": [
    {
     "name": "stdout",
     "output_type": "stream",
     "text": [
      "tensor([[ True,  True, False, False],\n",
      "        [ True, False, False, False],\n",
      "        [ True,  True,  True,  True]])\n",
      "torch.bool\n"
     ]
    }
   ],
   "source": [
    "pad_token_id = 0\n",
    "batch = torch.tensor([\n",
    "    [1, 2, 0, 0],\n",
    "    [4, 0, 0, 0],\n",
    "    [3, 5, 6, 7]\n",
    "])\n",
    "pad_mask = ~(batch == pad_token_id)\n",
    "print(pad_mask)\n",
    "print(pad_mask.dtype)"
   ]
  },
  {
   "cell_type": "code",
   "execution_count": 58,
   "metadata": {},
   "outputs": [],
   "source": [
    "import torch\n",
    "import torch.nn as nn"
   ]
  },
  {
   "cell_type": "code",
   "execution_count": 71,
   "metadata": {},
   "outputs": [],
   "source": [
    "loss = nn.MSELoss(reduction='sum')\n",
    "input = torch.randn(5, requires_grad=True)\n",
    "target = torch.randn(5)\n",
    "output = loss(input, target)"
   ]
  },
  {
   "cell_type": "code",
   "execution_count": 72,
   "metadata": {},
   "outputs": [
    {
     "data": {
      "text/plain": [
       "tensor(10.7388, grad_fn=<MseLossBackward>)"
      ]
     },
     "execution_count": 72,
     "metadata": {},
     "output_type": "execute_result"
    }
   ],
   "source": [
    "output"
   ]
  },
  {
   "cell_type": "code",
   "execution_count": 73,
   "metadata": {},
   "outputs": [
    {
     "data": {
      "text/plain": [
       "tensor([-0.4051, -1.0110,  1.1901, -1.0760, -0.0908], requires_grad=True)"
      ]
     },
     "execution_count": 73,
     "metadata": {},
     "output_type": "execute_result"
    }
   ],
   "source": [
    "input"
   ]
  },
  {
   "cell_type": "code",
   "execution_count": 74,
   "metadata": {},
   "outputs": [
    {
     "data": {
      "text/plain": [
       "tensor([ 0.9078,  1.0293,  0.1894, -0.7429,  1.8431])"
      ]
     },
     "execution_count": 74,
     "metadata": {},
     "output_type": "execute_result"
    }
   ],
   "source": [
    "target"
   ]
  },
  {
   "cell_type": "code",
   "execution_count": 75,
   "metadata": {},
   "outputs": [
    {
     "data": {
      "text/plain": [
       "5"
      ]
     },
     "execution_count": 75,
     "metadata": {},
     "output_type": "execute_result"
    }
   ],
   "source": [
    "len(target)"
   ]
  },
  {
   "cell_type": "code",
   "execution_count": null,
   "metadata": {},
   "outputs": [],
   "source": []
  }
 ],
 "metadata": {
  "kernelspec": {
   "display_name": "Python 3",
   "language": "python",
   "name": "python3"
  },
  "language_info": {
   "codemirror_mode": {
    "name": "ipython",
    "version": 3
   },
   "file_extension": ".py",
   "mimetype": "text/x-python",
   "name": "python",
   "nbconvert_exporter": "python",
   "pygments_lexer": "ipython3",
   "version": "3.8.5"
  }
 },
 "nbformat": 4,
 "nbformat_minor": 4
}
